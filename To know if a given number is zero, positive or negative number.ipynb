{
 "cells": [
  {
   "cell_type": "markdown",
   "id": "a6a8aadc-64ed-4e33-9bfc-8bcda4cdb6d3",
   "metadata": {},
   "source": [
    "**Write a Python program to know if a given number is zero, positive or negative number**"
   ]
  },
  {
   "cell_type": "code",
   "execution_count": 1,
   "id": "8f7282ff-c7cf-458a-b54f-5f41a1f69a54",
   "metadata": {},
   "outputs": [
    {
     "name": "stdin",
     "output_type": "stream",
     "text": [
      "Enter the number: 35\n"
     ]
    }
   ],
   "source": [
    "#Taking an input from the user\n",
    "a=float(input(\"Enter the number:\"))"
   ]
  },
  {
   "cell_type": "code",
   "execution_count": 2,
   "id": "40b48b21-f1da-4faf-843a-f992a9e4c7fb",
   "metadata": {},
   "outputs": [
    {
     "name": "stdout",
     "output_type": "stream",
     "text": [
      "The number 35.0 is positive.\n"
     ]
    }
   ],
   "source": [
    "#To check whether the given number is zero, positive, or negative\n",
    "if(a==0):\n",
    "    print(\"The number {} is zero.\".format(a))\n",
    "elif(a>0):\n",
    "    print(\"The number {} is positive.\".format(a))\n",
    "elif(a<0):\n",
    "    print(\"The number {} is negative.\".format(a))\n",
    "            \n",
    "\n"
   ]
  },
  {
   "cell_type": "code",
   "execution_count": null,
   "id": "6113b1a9-e629-4b59-9d17-4ee662b90853",
   "metadata": {},
   "outputs": [],
   "source": []
  },
  {
   "cell_type": "code",
   "execution_count": null,
   "id": "2afa97f1-ea9d-4526-a3e8-b3c784cc6a97",
   "metadata": {},
   "outputs": [],
   "source": []
  },
  {
   "cell_type": "code",
   "execution_count": null,
   "id": "636c4f00-e7d0-4a2a-af1c-04ed291df0ba",
   "metadata": {},
   "outputs": [],
   "source": []
  },
  {
   "cell_type": "code",
   "execution_count": null,
   "id": "e75b48ca-f8b2-46ee-813a-42ebe4e883c0",
   "metadata": {},
   "outputs": [],
   "source": []
  },
  {
   "cell_type": "code",
   "execution_count": null,
   "id": "904ef8bf-9090-4b72-9487-4651e332ce81",
   "metadata": {},
   "outputs": [],
   "source": []
  },
  {
   "cell_type": "code",
   "execution_count": null,
   "id": "70135c83-1ff8-4aa3-aa02-1b11b57ece16",
   "metadata": {},
   "outputs": [],
   "source": []
  }
 ],
 "metadata": {
  "kernelspec": {
   "display_name": "Python 3 (ipykernel)",
   "language": "python",
   "name": "python3"
  },
  "language_info": {
   "codemirror_mode": {
    "name": "ipython",
    "version": 3
   },
   "file_extension": ".py",
   "mimetype": "text/x-python",
   "name": "python",
   "nbconvert_exporter": "python",
   "pygments_lexer": "ipython3",
   "version": "3.12.7"
  }
 },
 "nbformat": 4,
 "nbformat_minor": 5
}
